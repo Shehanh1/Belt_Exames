{
 "cells": [
  {
   "cell_type": "code",
   "execution_count": null,
   "source": [
    "import pandas as pd\n",
    "import numpy as np\n",
    "import yfinance as yf\n",
    "from pandas_datareader import data as pdr\n",
    "yf.pdr_override()\n",
    "import matplotlib.pyplot as plt\n",
    "\n",
    "from sklearn import metrics\n",
    "from sklearn.linear_model import LogisticRegression\n",
    "from sklearn.metrics import confusion_matrix\n",
    "from sklearn.model_selection import train_test_split\n",
    "from sklearn.model_selection import cross_val_score\n",
    "\n",
    "import cufflinks as cf\n",
    "cf.set_config_file(offline=True)\n"
   ],
   "outputs": [],
   "metadata": {}
  },
  {
   "cell_type": "code",
   "execution_count": null,
   "source": [
    "#We chose 5 stocks\n",
    "df1 = pdr.get_data_yahoo('AAPL',start='2011-01-01',end='2021-10-31')\n",
    "df1 = df1[['Open','Close']]\n",
    "df1 = df1.rename(columns ={'Open': 'Open_AAPL', 'Close':'Close_AAPL'})\n",
    "df2 = pdr.get_data_yahoo('MSFT','2010-11-01','2021-10-31')\n",
    "df2 = df2[['Open','Close']]\n",
    "df2 = df2.rename(columns ={'Open': 'Open_MSFT', 'Close':'Close_MSFT'})\n",
    "df3 = pdr.get_data_yahoo('INTC','2010-11-01','2021-10-31')\n",
    "df3 = df3[['Open','Close']]\n",
    "df3 = df3.rename(columns ={'Open':'Open_INTC','Close':'Close_INTC'})\n",
    "df4 = pdr.get_data_yahoo('AMD','2010-11-01','2021-10-31')\n",
    "df4 = df4[['Open','Close']]\n",
    "df4 = df4.rename(columns ={'Open': 'Open_AMD', 'Close':'Close_AMD'})\n",
    "df5 =  pdr.get_data_yahoo('CSCO','2010-11-01','2021-10-31')\n",
    "df5 = df5[['Open','Close']]\n",
    "df5 = df5.rename(columns ={'Open': 'Open_CSCO', 'Close':'Close_CSCO'})\n",
    "df = df1.merge(df2, on = 'Date')\n",
    "df = df.merge(df3, on = 'Date')\n",
    "df = df.merge(df4, on = 'Date')\n",
    "df = df.merge(df5, on = 'Date')\n",
    "df"
   ],
   "outputs": [],
   "metadata": {}
  },
  {
   "cell_type": "code",
   "execution_count": null,
   "source": [
    "#Slice off the first three years.\n",
    "three_years = df.loc['2011-01-01': '2013-12-31']\n",
    "three_years = three_years[['Close_AAPL','Close_MSFT','Close_INTC','Close_AMD','Close_CSCO']]\n",
    "three_years['Return_AAPL']= three_years['Close_AAPL'].pct_change()\n",
    "three_years['Return_MSFT']= three_years['Close_MSFT'].pct_change()\n",
    "three_years['Return_INTC']= three_years['Close_INTC'].pct_change()\n",
    "three_years['Return_AMD']= three_years['Close_AMD'].pct_change()\n",
    "three_years['Return_CSCO']= three_years['Close_CSCO'].pct_change()\n",
    "three_years = three_years[['Return_AAPL','Return_MSFT','Return_INTC','Return_AMD','Return_CSCO']]\n",
    "three_years= three_years.dropna()\n",
    "three_years"
   ],
   "outputs": [],
   "metadata": {}
  },
  {
   "cell_type": "code",
   "execution_count": null,
   "source": [
    "matrix_of_return_value = np.asmatrix(three_years)\n",
    "matrix_of_return_value = matrix_of_return_value.T\n",
    "\n",
    "no_of_asset_classes = 5\n",
    "no_of_portfolios = 10000\n",
    "\n",
    "#Calculat the overall portfolio mean , the overall portfolio standard,and the Sharp ratio.\n",
    "collection_of_random_asset_weights = []\n",
    "portfolio_means = []\n",
    "portfolio_standard_deviations = []\n",
    "portfolio_sharpe_ratios = []\n",
    "\n",
    "def get_random_asset_weights(no_of_asset_classes):\n",
    "    random_asset_weights = np.random.rand(no_of_asset_classes)\n",
    "    random_asset_weights /= sum(random_asset_weights)\n",
    "    random_asset_weights = np.asmatrix(random_asset_weights)\n",
    "    return random_asset_weights\n",
    "\n",
    "def get_portfolio_statistics(asset_weights, matrix_of_return_value):\n",
    "    asset_means = np.asmatrix(np.mean(matrix_of_return_value, axis = 1))\n",
    "    asset_covariances = np.asmatrix(np.cov(matrix_of_return_value))\n",
    "    portfolio_mean= asset_weights * asset_means\n",
    "    portfolio_mean= portfolio_mean.item()\n",
    "    portfolio_standard_deviation= np.sqrt(asset_weights * asset_covariances * asset_weights.T)\n",
    "    portfolio_standard_deviation= portfolio_standard_deviation.item()\n",
    "    portfolio_sharpe_ratio= portfolio_mean / portfolio_standard_deviation\n",
    "    return portfolio_mean, portfolio_standard_deviation, portfolio_sharpe_ratio\n",
    "\n",
    "while len(collection_of_random_asset_weights) < no_of_portfolios:\n",
    "    random_asset_weights = get_random_asset_weights(no_of_asset_classes)\n",
    "    collection_of_random_asset_weights.append(random_asset_weights)\n",
    "    portfolio_means.append(get_portfolio_statistics(random_asset_weights, matrix_of_return_value)[0])\n",
    "    portfolio_standard_deviations.append(get_portfolio_statistics(random_asset_weights, matrix_of_return_value)[1])\n",
    "    portfolio_sharpe_ratios.append(get_portfolio_statistics(random_asset_weights, matrix_of_return_value)[2])\n",
    "    \n",
    "\n",
    "    \n",
    "index = portfolio_sharpe_ratios.index(max(portfolio_sharpe_ratios))\n",
    "print(collection_of_random_asset_weights[index])  "
   ],
   "outputs": [],
   "metadata": {}
  },
  {
   "cell_type": "code",
   "execution_count": null,
   "source": [
    "plt.plot(portfolio_standard_deviations,portfolio_means, 'o', markersize = 3, color = 'lightskyblue') \n",
    "plt.show()"
   ],
   "outputs": [],
   "metadata": {}
  },
  {
   "cell_type": "code",
   "execution_count": null,
   "source": [
    "x = np.linspace(0, max(portfolio_standard_deviations), 10000)\n",
    "y = portfolio_sharpe_ratios[index] * x\n",
    "plt.plot( portfolio_standard_deviations,portfolio_means, 'o', markersize = 3, color = 'lightskyblue')\n",
    "plt.plot(x, y, '-', linewidth = 2, color = 'green')\n",
    "plt.plot(portfolio_standard_deviations[index],portfolio_means[index],color=\"red\",marker=\"*\",markersize = 15)\n",
    "plt.show()"
   ],
   "outputs": [],
   "metadata": {}
  },
  {
   "cell_type": "raw",
   "source": [
    "#Give a complete conceptual description of the meaning of the Sharpe ratio as it relates to the theory of portfolio optimization.\n",
    "#Why do portfolio managers seek to maximize this measure\n",
    "\n",
    "The Sharpe Ratio gives us a perception of investment risks so that it shows us the best investment that is almost risk-free, and the managers seek to maximize this ratio because it reflects for them the most appropriate portfolio that can be invested in and is free of risks.\n"
   ],
   "metadata": {}
  },
  {
   "cell_type": "code",
   "execution_count": null,
   "source": [
    "some_wights= pd.DataFrame({'AAPL': [0.40], 'MSFT': [0.30], 'INTC':[0.10], 'AMD':[0.10], 'CSCO':[0.10] }, index = [three_years.last_valid_index()])\n",
    "some_wights"
   ],
   "outputs": [],
   "metadata": {}
  },
  {
   "cell_type": "code",
   "execution_count": null,
   "source": [
    "capital = 10000\n",
    "allocations = capital*some_wights\n",
    "allocations"
   ],
   "outputs": [],
   "metadata": {}
  },
  {
   "cell_type": "code",
   "execution_count": null,
   "source": [
    "print(df['Close_AAPL'].loc[some_wights.last_valid_index()])\n",
    "print(df['Close_MSFT'].loc[some_wights.last_valid_index()])\n",
    "print(df['Close_INTC'].loc[some_wights.last_valid_index()])\n",
    "print(df['Close_AMD'].loc[some_wights.last_valid_index()])\n",
    "print(df['Close_CSCO'].loc[some_wights.last_valid_index()])\n",
    "\n",
    "no_of_shares = allocations /df[[f'Open_{sym}' for sym in some_wights.columns]].loc[some_wights.index[0]].values\n",
    "no_of_shares"
   ],
   "outputs": [],
   "metadata": {}
  },
  {
   "cell_type": "code",
   "execution_count": null,
   "source": [
    "seven_years = df.loc['2013-12-31':] \n",
    "seven_years['Open'] = seven_years['Open_AAPL']*no_of_shares['AAPL'].iloc[0] + seven_years['Open_MSFT']*no_of_shares['MSFT'].iloc[0] + seven_years['Open_INTC']*no_of_shares['INTC'].iloc[0]+  seven_years['Open_AMD']*no_of_shares['AMD'].iloc[0]+ seven_years['Open_CSCO']*no_of_shares['CSCO'].iloc[0]\n",
    "seven_years['Close'] = seven_years['Close_AAPL']*no_of_shares['AAPL'].iloc[0] + seven_years['Close_MSFT']*no_of_shares['MSFT'].iloc[0]+ seven_years['Close_INTC']*no_of_shares['INTC'].iloc[0]+ seven_years['Close_AMD']*no_of_shares['AMD'].iloc[0]+ seven_years['Close_CSCO']*no_of_shares['CSCO'].iloc[0]\n",
    "seven_years = seven_years[['Open','Close']]\n",
    "seven_years"
   ],
   "outputs": [],
   "metadata": {}
  },
  {
   "cell_type": "code",
   "execution_count": null,
   "source": [
    "# Calculate the Absolute Return .\n",
    "absolute_return = (seven_years['Close'].iloc[-1]-capital)/capital\n",
    "# Calculate the CAGR .\n",
    "CAGR = ((seven_years['Close'].iloc[-1]-capital)**(365/(df.index[-1] - df.index[0]).days))-1\n",
    "# Calculate the IR .\n",
    "information_ratio = (seven_years.Close.pct_change().mean()/seven_years.Close.pct_change().std())*((252) **0.5)\n",
    "\n",
    "\n",
    "s=f\"\"\"Abslute Return of Our Portofolio:{absolute_return*100:.2f}%\n",
    "CAGR of Our Portofolio: {CAGR*100:.2f}%\n",
    "Information Ratio of Our Portofolio:{information_ratio:.2f}\n",
    "\"\"\"\n",
    "print(s)\n",
    "axs = seven_years.Close.plot()"
   ],
   "outputs": [],
   "metadata": {}
  },
  {
   "cell_type": "code",
   "execution_count": null,
   "source": [
    "short_time = 5\n",
    "long_time = 15\n",
    "seven_years['Close_Short_Rolling']= seven_years['Close'].rolling(window = short_time).mean()\n",
    "seven_years['Close_Long_Rolling']= seven_years['Close'].rolling(window = long_time).mean()\n",
    "seven_years['Window_diff']=seven_years['Close_Long_Rolling'] - seven_years['Close_Short_Rolling']\n",
    "seven_years['Open_1_change'] = seven_years['Open']-seven_years['Open'].shift(1)\n",
    "seven_years = seven_years.dropna()\n",
    "seven_years"
   ],
   "outputs": [],
   "metadata": {}
  },
  {
   "cell_type": "code",
   "execution_count": null,
   "source": [
    "X = seven_years.copy()\n",
    "y = np.where(X.Close.shift(-1) >= X.Close, 1,-1)\n",
    "index = int(0.3*len(X))\n",
    "X_train = X.iloc[:index]\n",
    "X_test = X.iloc[index:]\n",
    "y_train = y[:index]\n",
    "y_test = y[index:]\n",
    "logistic = LogisticRegression()\n",
    "logistic = logistic.fit(X_train,y_train)\n",
    "pd.DataFrame(zip(X.columns, np.transpose(logistic.coef_)))"
   ],
   "outputs": [],
   "metadata": {}
  },
  {
   "cell_type": "code",
   "execution_count": null,
   "source": [
    "#\n",
    "predictions = logistic.predict(X_test)\n",
    "print(metrics.confusion_matrix(y_test,predictions))\n",
    "print(logistic.score(X_test,y_test))"
   ],
   "outputs": [],
   "metadata": {}
  },
  {
   "cell_type": "code",
   "execution_count": null,
   "source": [
    "results = X_test.copy()\n",
    "results['C2C_Price']= X_test.Close.shift(-1) - X_test.Close\n",
    "results['Predictions'] = predictions\n",
    "results['True_Label']= y_test\n",
    "results['Return']= results['C2C_Price']*results['Predictions']\n",
    "results['Cum_Return']= results['Return'].cumsum()\n",
    "results = results.dropna()\n",
    "results"
   ],
   "outputs": [],
   "metadata": {}
  },
  {
   "cell_type": "code",
   "execution_count": null,
   "source": [
    "#Calculate the Abslute Return of Our Algorithmic Trading.\n",
    "absolute_return_tf = (results['Close'].iloc[-1]-capital)/capital\n",
    "#Calculate the CAGR of Our Algorithmic Trading.\n",
    "CAGR_tf = ((results['Close'].iloc[-1]-capital)**(365/(df.index[-1] - df.index[0]).days))-1\n",
    "#Calculate the IR Of Our Algorithmic Trading.\n",
    "information_ratio_tf = (results.Close.pct_change().mean()/results.Close.pct_change().std())*((252) **0.5)\n",
    "\n",
    "\n",
    "##Calculate the Abslute Return of Our buy-and-hold Trading. \n",
    "absolute_return_bh = (results.Close.iloc[-1]-results.Open.iloc[0])/results.Open.iloc[0]\n",
    "#Calculate the CAGR of Our buy-and-hold Trading. \n",
    "CAGR_bh = ((results.Close.iloc[-1]/results.Open.iloc[0])**(252/len(df)))-1\n",
    "#Calculate the IR Of Our buy-and-hold Trading .\n",
    "information_ratio_bh = (results.Close.pct_change().mean()/results.Close.pct_change().std())*((252) **0.5)\n",
    "\n",
    "\n",
    "\n",
    "\n",
    "s=f\"\"\"Abslute Return of Our Algorithmic Trading:{absolute_return_tf*100:.2f}%\n",
    "Abslute Return of Our buy-and-hold Trading :{absolute_return_bh*100:.2f}%\n",
    "CAGR of Our Algorithmic Trading: {CAGR_tf*100:.2f}%\n",
    "CAGR of Our buy-and-hold Trading: {CAGR_bh*100:.2f}%\n",
    "Information Ratio of Our Algorithmic Trading:{information_ratio_tf:.2f}\n",
    "Information Ratio of Our buy-and-hold Trading:{information_ratio_bh:.2f}\n",
    "\"\"\"\n",
    "\n",
    "print(s)\n",
    "results.Close.iplot()\n",
    "\n",
    "((results.Close.pct_change().dropna()+1).cumprod()*capital).iplot()"
   ],
   "outputs": [],
   "metadata": {}
  },
  {
   "cell_type": "code",
   "execution_count": null,
   "source": [],
   "outputs": [],
   "metadata": {}
  },
  {
   "cell_type": "code",
   "execution_count": null,
   "source": [],
   "outputs": [],
   "metadata": {}
  }
 ],
 "metadata": {
  "kernelspec": {
   "display_name": "Python 3",
   "language": "python",
   "name": "python3"
  },
  "language_info": {
   "codemirror_mode": {
    "name": "ipython",
    "version": 3
   },
   "file_extension": ".py",
   "mimetype": "text/x-python",
   "name": "python",
   "nbconvert_exporter": "python",
   "pygments_lexer": "ipython3",
   "version": "3.8.8"
  }
 },
 "nbformat": 4,
 "nbformat_minor": 5
}